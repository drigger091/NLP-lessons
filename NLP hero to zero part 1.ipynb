{
 "cells": [
  {
   "cell_type": "code",
   "execution_count": 14,
   "metadata": {},
   "outputs": [],
   "source": [
    "import tensorflow as tf\n",
    "from tensorflow import keras\n",
    "from tensorflow.keras.preprocessing.text import Tokenizer\n",
    "from tensorflow.keras.preprocessing.sequence import pad_sequences\n",
    "\n",
    "#padding is used to "
   ]
  },
  {
   "cell_type": "code",
   "execution_count": 2,
   "metadata": {},
   "outputs": [],
   "source": [
    "sentences = [\" I love my dog\",\n",
    "             \"I love my cat\"\n",
    "             ]"
   ]
  },
  {
   "cell_type": "code",
   "execution_count": 3,
   "metadata": {},
   "outputs": [],
   "source": [
    "sentences1 = [\" I love my dog\",\n",
    "             \"I love my cat\",\n",
    "             \"I love your dog!\",\n",
    "             \"Do you think my dog is amazing\",\n",
    "             ]"
   ]
  },
  {
   "cell_type": "code",
   "execution_count": 4,
   "metadata": {},
   "outputs": [
    {
     "name": "stdout",
     "output_type": "stream",
     "text": [
      "{'i': 1, 'love': 2, 'my': 3, 'dog': 4, 'cat': 5}\n"
     ]
    }
   ],
   "source": [
    "tokenizer = Tokenizer(num_words= 100)\n",
    "tokenizer.fit_on_texts(sentences)\n",
    "word_index = tokenizer.word_index\n",
    "print(word_index)"
   ]
  },
  {
   "cell_type": "code",
   "execution_count": 15,
   "metadata": {},
   "outputs": [
    {
     "name": "stdout",
     "output_type": "stream",
     "text": [
      "{'<OOV>': 1, 'i': 2, 'love': 3, 'my': 4, 'dog': 5, 'cat': 6, 'your': 7, 'do': 8, 'you': 9, 'think': 10, 'is': 11, 'amazing': 12}\n",
      "[[2, 3, 4, 5], [2, 3, 4, 6], [2, 3, 7, 5], [8, 9, 10, 4, 5, 11, 12]]\n",
      "[[ 0  0  0  2  3  4  5]\n",
      " [ 0  0  0  2  3  4  6]\n",
      " [ 0  0  0  2  3  7  5]\n",
      " [ 8  9 10  4  5 11 12]]\n"
     ]
    }
   ],
   "source": [
    "tokenizer = Tokenizer(num_words= 100,oov_token= \"<OOV>\")\n",
    "tokenizer.fit_on_texts(sentences1)\n",
    "word_index = tokenizer.word_index\n",
    "sequences = tokenizer.texts_to_sequences(sentences1)\n",
    "padded = pad_sequences(sequences)\n",
    "print(word_index)\n",
    "print(sequences)\n",
    "print(padded)  # this basically matches all sequence lengths to the largest sentence and fills in the before empty spaces with zero"
   ]
  },
  {
   "attachments": {},
   "cell_type": "markdown",
   "metadata": {},
   "source": [
    "# This is used to train a neural network but there as cases where sentences contain words that are not seen before\n",
    "# all senteces are same size sequences with padding as the empty spaces are replaced with zero\n",
    "\n",
    "# paraemeters to be used in padding padded = pad_sequences(sequences , padding = 'post',maxlen =5) posts suggest 0 at the end"
   ]
  },
  {
   "cell_type": "code",
   "execution_count": 12,
   "metadata": {},
   "outputs": [
    {
     "name": "stdout",
     "output_type": "stream",
     "text": [
      "[[2, 3, 4, 5], [4, 5, 1, 4, 1]]\n"
     ]
    }
   ],
   "source": [
    "test_data = [\n",
    "    'I love my dog',\n",
    "    'my dog loves my manatee',\n",
    "]\n",
    "\n",
    "test_seq = tokenizer.texts_to_sequences(test_data)\n",
    "print(test_seq)"
   ]
  },
  {
   "cell_type": "code",
   "execution_count": 13,
   "metadata": {},
   "outputs": [],
   "source": [
    "# a really word index needs to be used in such case which is not favourable\n",
    "#generally seuqunces should be as muich length as the words"
   ]
  },
  {
   "cell_type": "code",
   "execution_count": null,
   "metadata": {},
   "outputs": [],
   "source": []
  }
 ],
 "metadata": {
  "kernelspec": {
   "display_name": "Python 3",
   "language": "python",
   "name": "python3"
  },
  "language_info": {
   "codemirror_mode": {
    "name": "ipython",
    "version": 3
   },
   "file_extension": ".py",
   "mimetype": "text/x-python",
   "name": "python",
   "nbconvert_exporter": "python",
   "pygments_lexer": "ipython3",
   "version": "3.11.2"
  },
  "orig_nbformat": 4
 },
 "nbformat": 4,
 "nbformat_minor": 2
}
